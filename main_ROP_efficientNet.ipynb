{
  "cells": [
    {
      "cell_type": "code",
      "execution_count": null,
      "metadata": {
        "id": "JWf6C6GakGen"
      },
      "outputs": [],
      "source": [
        "import torch\n",
        "from torch.utils.data import Dataset, DataLoader\n",
        "import torchvision\n",
        "import torch.nn as nn\n",
        "from tqdm.notebook import tqdm, trange\n",
        "from PIL import Image, ImageFile\n",
        "ImageFile.LOAD_TRUNCATED_IMAGES = True\n",
        "import pandas as pd\n",
        "import torch.nn.functional as F\n",
        "import matplotlib.pyplot as plt\n",
        "import zipfile\n",
        "from google.colab import drive\n",
        "import os\n",
        "import numpy as np\n",
        "import warnings\n",
        "from torchvision import transforms\n",
        "from torchsummary import summary\n",
        "from torchvision.io import read_image\n",
        "import time\n",
        "from sklearn.metrics import precision_score, recall_score, accuracy_score\n",
        "from sklearn.metrics import confusion_matrix\n",
        "from sklearn.metrics import ConfusionMatrixDisplay\n",
        "import torchvision.models as models\n",
        "import torch.optim as optim\n",
        "\n",
        "warnings.filterwarnings('ignore')"
      ]
    },
    {
      "cell_type": "code",
      "execution_count": null,
      "metadata": {
        "colab": {
          "base_uri": "https://localhost:8080/"
        },
        "id": "7MGDu8ZJnGUY",
        "outputId": "fe59131b-1006-4929-f250-b49661f2ae7c"
      },
      "outputs": [
        {
          "output_type": "stream",
          "name": "stdout",
          "text": [
            "Mounted at /content/drive\n"
          ]
        }
      ],
      "source": [
        "drive.mount('/content/drive')"
      ]
    },
    {
      "cell_type": "code",
      "execution_count": null,
      "metadata": {
        "id": "POU4Ac5roB5k"
      },
      "outputs": [],
      "source": [
        "zip_file_path = '/content/drive/MyDrive/ROP_datasets/annotations.zip'\n",
        "# Распаковать архив в текущую папку\n",
        "with zipfile.ZipFile(zip_file_path, 'r') as zip_ref:\n",
        "    zip_ref.extractall()"
      ]
    },
    {
      "cell_type": "code",
      "execution_count": null,
      "metadata": {
        "id": "rFvW6NeUls_3"
      },
      "outputs": [],
      "source": [
        "class ROP_Dataset(Dataset):\n",
        "    def __init__(self, txt_file, image_dir, transform=None):\n",
        "        self.image_list = pd.read_csv(txt_file, header=None)\n",
        "        self.image_dir = image_dir\n",
        "        self.transform = transform\n",
        "\n",
        "    def __len__(self):\n",
        "        return len(self.image_list)\n",
        "\n",
        "    def __getitem__(self, idx):\n",
        "        img_path = os.path.join(self.image_dir, self.image_list.iloc[idx, 0])\n",
        "        image = Image.open(img_path)\n",
        "        img_tag = self.image_list.iloc[idx, 1]\n",
        "\n",
        "        if self.transform:\n",
        "            image = self.transform(image)\n",
        "        sample = {\"image\": image, \"tag\": img_tag}\n",
        "\n",
        "        return image, img_tag"
      ]
    },
    {
      "cell_type": "code",
      "execution_count": null,
      "metadata": {
        "id": "PXaXSTyc9d6s"
      },
      "outputs": [],
      "source": [
        "MEAN = torch.tensor([0.485, 0.456, 0.406])\n",
        "STD  = torch.tensor([0.229, 0.224, 0.225])"
      ]
    },
    {
      "cell_type": "code",
      "execution_count": null,
      "metadata": {
        "id": "uNeBDB4gmEBO"
      },
      "outputs": [],
      "source": [
        "transform = transforms.Compose([\n",
        "    transforms.Resize((224, 224)),\n",
        "    transforms.ToTensor(),\n",
        "    transforms.Normalize(mean=MEAN, std=STD)  # Normaliztion\n",
        "])\n",
        "\n",
        "# Create Dataset Training\n",
        "dataset_train = ROP_Dataset(txt_file='./annotations/train.txt', image_dir='./annotations/images', transform=transform)\n",
        "# Create Dataset Testing\n",
        "dataset_test = ROP_Dataset(txt_file='./annotations/test.txt', image_dir='./annotations/images', transform=transform)\n",
        "# Create Dataset Validation\n",
        "dataset_valid = ROP_Dataset(txt_file='./annotations/valid.txt', image_dir='./annotations/images', transform=transform)\n",
        "\n",
        "# DataLoader Training\n",
        "dataloader_train = DataLoader(dataset_train, batch_size=32, shuffle=True)\n",
        "# DataLoader Testing\n",
        "dataloader_test = DataLoader(dataset_test, batch_size=32, shuffle=True)\n",
        "# DataLoader Validation\n",
        "dataloader_valid = DataLoader(dataset_valid, batch_size=32, shuffle=True)"
      ]
    },
    {
      "cell_type": "code",
      "execution_count": null,
      "metadata": {
        "colab": {
          "base_uri": "https://localhost:8080/"
        },
        "id": "7aKpipdPQDx0",
        "outputId": "2adb68e6-6555-49b1-eb0a-a11a2e9a520e"
      },
      "outputs": [
        {
          "output_type": "stream",
          "name": "stdout",
          "text": [
            "Number of training examples: 481\n",
            "Number of validation examples: 70\n",
            "Number of test examples: 137\n"
          ]
        }
      ],
      "source": [
        "print(f'Number of training examples: {len(dataset_train)}')\n",
        "print(f'Number of validation examples: {len(dataset_valid)}')\n",
        "print(f'Number of test examples: {len(dataset_test)}')"
      ]
    },
    {
      "cell_type": "code",
      "execution_count": null,
      "metadata": {
        "colab": {
          "base_uri": "https://localhost:8080/"
        },
        "id": "gzzEfek9tcZc",
        "outputId": "f9dde711-08d8-4856-d6c2-24acb68262e3"
      },
      "outputs": [
        {
          "output_type": "stream",
          "name": "stdout",
          "text": [
            "Using cuda for inference\n"
          ]
        }
      ],
      "source": [
        "device = torch.device(\"cuda\") if torch.cuda.is_available() else torch.device(\"cpu\")\n",
        "print(f'Using {device} for inference')"
      ]
    },
    {
      "cell_type": "code",
      "execution_count": null,
      "metadata": {
        "id": "ebisicFDJtl8",
        "colab": {
          "base_uri": "https://localhost:8080/"
        },
        "outputId": "78d1f0e4-9068-44b9-d47e-7d75d49067f4"
      },
      "outputs": [
        {
          "output_type": "stream",
          "name": "stderr",
          "text": [
            "Downloading: \"https://download.pytorch.org/models/efficientnet_b0_rwightman-7f5810bc.pth\" to /root/.cache/torch/hub/checkpoints/efficientnet_b0_rwightman-7f5810bc.pth\n",
            "100%|██████████| 20.5M/20.5M [00:00<00:00, 76.6MB/s]\n"
          ]
        }
      ],
      "source": [
        "model = models.efficientnet_b0(weights='IMAGENET1K_V1', progress=True).to(device)"
      ]
    },
    {
      "cell_type": "code",
      "execution_count": null,
      "metadata": {
        "colab": {
          "base_uri": "https://localhost:8080/"
        },
        "id": "cQfxoOC-UNpI",
        "outputId": "ae69ec95-5c16-4b87-af8f-ea8f3a3b34e2"
      },
      "outputs": [
        {
          "output_type": "stream",
          "name": "stdout",
          "text": [
            "features.0.0.weight \t torch.Size([32, 3, 3, 3])\n",
            "features.0.1.weight \t torch.Size([32])\n",
            "features.0.1.bias \t torch.Size([32])\n",
            "features.1.0.block.0.0.weight \t torch.Size([32, 1, 3, 3])\n",
            "features.1.0.block.0.1.weight \t torch.Size([32])\n",
            "features.1.0.block.0.1.bias \t torch.Size([32])\n",
            "features.1.0.block.1.fc1.weight \t torch.Size([8, 32, 1, 1])\n",
            "features.1.0.block.1.fc1.bias \t torch.Size([8])\n",
            "features.1.0.block.1.fc2.weight \t torch.Size([32, 8, 1, 1])\n",
            "features.1.0.block.1.fc2.bias \t torch.Size([32])\n",
            "features.1.0.block.2.0.weight \t torch.Size([16, 32, 1, 1])\n",
            "features.1.0.block.2.1.weight \t torch.Size([16])\n",
            "features.1.0.block.2.1.bias \t torch.Size([16])\n",
            "features.2.0.block.0.0.weight \t torch.Size([96, 16, 1, 1])\n",
            "features.2.0.block.0.1.weight \t torch.Size([96])\n",
            "features.2.0.block.0.1.bias \t torch.Size([96])\n",
            "features.2.0.block.1.0.weight \t torch.Size([96, 1, 3, 3])\n",
            "features.2.0.block.1.1.weight \t torch.Size([96])\n",
            "features.2.0.block.1.1.bias \t torch.Size([96])\n",
            "features.2.0.block.2.fc1.weight \t torch.Size([4, 96, 1, 1])\n",
            "features.2.0.block.2.fc1.bias \t torch.Size([4])\n",
            "features.2.0.block.2.fc2.weight \t torch.Size([96, 4, 1, 1])\n",
            "features.2.0.block.2.fc2.bias \t torch.Size([96])\n",
            "features.2.0.block.3.0.weight \t torch.Size([24, 96, 1, 1])\n",
            "features.2.0.block.3.1.weight \t torch.Size([24])\n",
            "features.2.0.block.3.1.bias \t torch.Size([24])\n",
            "features.2.1.block.0.0.weight \t torch.Size([144, 24, 1, 1])\n",
            "features.2.1.block.0.1.weight \t torch.Size([144])\n",
            "features.2.1.block.0.1.bias \t torch.Size([144])\n",
            "features.2.1.block.1.0.weight \t torch.Size([144, 1, 3, 3])\n",
            "features.2.1.block.1.1.weight \t torch.Size([144])\n",
            "features.2.1.block.1.1.bias \t torch.Size([144])\n",
            "features.2.1.block.2.fc1.weight \t torch.Size([6, 144, 1, 1])\n",
            "features.2.1.block.2.fc1.bias \t torch.Size([6])\n",
            "features.2.1.block.2.fc2.weight \t torch.Size([144, 6, 1, 1])\n",
            "features.2.1.block.2.fc2.bias \t torch.Size([144])\n",
            "features.2.1.block.3.0.weight \t torch.Size([24, 144, 1, 1])\n",
            "features.2.1.block.3.1.weight \t torch.Size([24])\n",
            "features.2.1.block.3.1.bias \t torch.Size([24])\n",
            "features.3.0.block.0.0.weight \t torch.Size([144, 24, 1, 1])\n",
            "features.3.0.block.0.1.weight \t torch.Size([144])\n",
            "features.3.0.block.0.1.bias \t torch.Size([144])\n",
            "features.3.0.block.1.0.weight \t torch.Size([144, 1, 5, 5])\n",
            "features.3.0.block.1.1.weight \t torch.Size([144])\n",
            "features.3.0.block.1.1.bias \t torch.Size([144])\n",
            "features.3.0.block.2.fc1.weight \t torch.Size([6, 144, 1, 1])\n",
            "features.3.0.block.2.fc1.bias \t torch.Size([6])\n",
            "features.3.0.block.2.fc2.weight \t torch.Size([144, 6, 1, 1])\n",
            "features.3.0.block.2.fc2.bias \t torch.Size([144])\n",
            "features.3.0.block.3.0.weight \t torch.Size([40, 144, 1, 1])\n",
            "features.3.0.block.3.1.weight \t torch.Size([40])\n",
            "features.3.0.block.3.1.bias \t torch.Size([40])\n",
            "features.3.1.block.0.0.weight \t torch.Size([240, 40, 1, 1])\n",
            "features.3.1.block.0.1.weight \t torch.Size([240])\n",
            "features.3.1.block.0.1.bias \t torch.Size([240])\n",
            "features.3.1.block.1.0.weight \t torch.Size([240, 1, 5, 5])\n",
            "features.3.1.block.1.1.weight \t torch.Size([240])\n",
            "features.3.1.block.1.1.bias \t torch.Size([240])\n",
            "features.3.1.block.2.fc1.weight \t torch.Size([10, 240, 1, 1])\n",
            "features.3.1.block.2.fc1.bias \t torch.Size([10])\n",
            "features.3.1.block.2.fc2.weight \t torch.Size([240, 10, 1, 1])\n",
            "features.3.1.block.2.fc2.bias \t torch.Size([240])\n",
            "features.3.1.block.3.0.weight \t torch.Size([40, 240, 1, 1])\n",
            "features.3.1.block.3.1.weight \t torch.Size([40])\n",
            "features.3.1.block.3.1.bias \t torch.Size([40])\n",
            "features.4.0.block.0.0.weight \t torch.Size([240, 40, 1, 1])\n",
            "features.4.0.block.0.1.weight \t torch.Size([240])\n",
            "features.4.0.block.0.1.bias \t torch.Size([240])\n",
            "features.4.0.block.1.0.weight \t torch.Size([240, 1, 3, 3])\n",
            "features.4.0.block.1.1.weight \t torch.Size([240])\n",
            "features.4.0.block.1.1.bias \t torch.Size([240])\n",
            "features.4.0.block.2.fc1.weight \t torch.Size([10, 240, 1, 1])\n",
            "features.4.0.block.2.fc1.bias \t torch.Size([10])\n",
            "features.4.0.block.2.fc2.weight \t torch.Size([240, 10, 1, 1])\n",
            "features.4.0.block.2.fc2.bias \t torch.Size([240])\n",
            "features.4.0.block.3.0.weight \t torch.Size([80, 240, 1, 1])\n",
            "features.4.0.block.3.1.weight \t torch.Size([80])\n",
            "features.4.0.block.3.1.bias \t torch.Size([80])\n",
            "features.4.1.block.0.0.weight \t torch.Size([480, 80, 1, 1])\n",
            "features.4.1.block.0.1.weight \t torch.Size([480])\n",
            "features.4.1.block.0.1.bias \t torch.Size([480])\n",
            "features.4.1.block.1.0.weight \t torch.Size([480, 1, 3, 3])\n",
            "features.4.1.block.1.1.weight \t torch.Size([480])\n",
            "features.4.1.block.1.1.bias \t torch.Size([480])\n",
            "features.4.1.block.2.fc1.weight \t torch.Size([20, 480, 1, 1])\n",
            "features.4.1.block.2.fc1.bias \t torch.Size([20])\n",
            "features.4.1.block.2.fc2.weight \t torch.Size([480, 20, 1, 1])\n",
            "features.4.1.block.2.fc2.bias \t torch.Size([480])\n",
            "features.4.1.block.3.0.weight \t torch.Size([80, 480, 1, 1])\n",
            "features.4.1.block.3.1.weight \t torch.Size([80])\n",
            "features.4.1.block.3.1.bias \t torch.Size([80])\n",
            "features.4.2.block.0.0.weight \t torch.Size([480, 80, 1, 1])\n",
            "features.4.2.block.0.1.weight \t torch.Size([480])\n",
            "features.4.2.block.0.1.bias \t torch.Size([480])\n",
            "features.4.2.block.1.0.weight \t torch.Size([480, 1, 3, 3])\n",
            "features.4.2.block.1.1.weight \t torch.Size([480])\n",
            "features.4.2.block.1.1.bias \t torch.Size([480])\n",
            "features.4.2.block.2.fc1.weight \t torch.Size([20, 480, 1, 1])\n",
            "features.4.2.block.2.fc1.bias \t torch.Size([20])\n",
            "features.4.2.block.2.fc2.weight \t torch.Size([480, 20, 1, 1])\n",
            "features.4.2.block.2.fc2.bias \t torch.Size([480])\n",
            "features.4.2.block.3.0.weight \t torch.Size([80, 480, 1, 1])\n",
            "features.4.2.block.3.1.weight \t torch.Size([80])\n",
            "features.4.2.block.3.1.bias \t torch.Size([80])\n",
            "features.5.0.block.0.0.weight \t torch.Size([480, 80, 1, 1])\n",
            "features.5.0.block.0.1.weight \t torch.Size([480])\n",
            "features.5.0.block.0.1.bias \t torch.Size([480])\n",
            "features.5.0.block.1.0.weight \t torch.Size([480, 1, 5, 5])\n",
            "features.5.0.block.1.1.weight \t torch.Size([480])\n",
            "features.5.0.block.1.1.bias \t torch.Size([480])\n",
            "features.5.0.block.2.fc1.weight \t torch.Size([20, 480, 1, 1])\n",
            "features.5.0.block.2.fc1.bias \t torch.Size([20])\n",
            "features.5.0.block.2.fc2.weight \t torch.Size([480, 20, 1, 1])\n",
            "features.5.0.block.2.fc2.bias \t torch.Size([480])\n",
            "features.5.0.block.3.0.weight \t torch.Size([112, 480, 1, 1])\n",
            "features.5.0.block.3.1.weight \t torch.Size([112])\n",
            "features.5.0.block.3.1.bias \t torch.Size([112])\n",
            "features.5.1.block.0.0.weight \t torch.Size([672, 112, 1, 1])\n",
            "features.5.1.block.0.1.weight \t torch.Size([672])\n",
            "features.5.1.block.0.1.bias \t torch.Size([672])\n",
            "features.5.1.block.1.0.weight \t torch.Size([672, 1, 5, 5])\n",
            "features.5.1.block.1.1.weight \t torch.Size([672])\n",
            "features.5.1.block.1.1.bias \t torch.Size([672])\n",
            "features.5.1.block.2.fc1.weight \t torch.Size([28, 672, 1, 1])\n",
            "features.5.1.block.2.fc1.bias \t torch.Size([28])\n",
            "features.5.1.block.2.fc2.weight \t torch.Size([672, 28, 1, 1])\n",
            "features.5.1.block.2.fc2.bias \t torch.Size([672])\n",
            "features.5.1.block.3.0.weight \t torch.Size([112, 672, 1, 1])\n",
            "features.5.1.block.3.1.weight \t torch.Size([112])\n",
            "features.5.1.block.3.1.bias \t torch.Size([112])\n",
            "features.5.2.block.0.0.weight \t torch.Size([672, 112, 1, 1])\n",
            "features.5.2.block.0.1.weight \t torch.Size([672])\n",
            "features.5.2.block.0.1.bias \t torch.Size([672])\n",
            "features.5.2.block.1.0.weight \t torch.Size([672, 1, 5, 5])\n",
            "features.5.2.block.1.1.weight \t torch.Size([672])\n",
            "features.5.2.block.1.1.bias \t torch.Size([672])\n",
            "features.5.2.block.2.fc1.weight \t torch.Size([28, 672, 1, 1])\n",
            "features.5.2.block.2.fc1.bias \t torch.Size([28])\n",
            "features.5.2.block.2.fc2.weight \t torch.Size([672, 28, 1, 1])\n",
            "features.5.2.block.2.fc2.bias \t torch.Size([672])\n",
            "features.5.2.block.3.0.weight \t torch.Size([112, 672, 1, 1])\n",
            "features.5.2.block.3.1.weight \t torch.Size([112])\n",
            "features.5.2.block.3.1.bias \t torch.Size([112])\n",
            "features.6.0.block.0.0.weight \t torch.Size([672, 112, 1, 1])\n",
            "features.6.0.block.0.1.weight \t torch.Size([672])\n",
            "features.6.0.block.0.1.bias \t torch.Size([672])\n",
            "features.6.0.block.1.0.weight \t torch.Size([672, 1, 5, 5])\n",
            "features.6.0.block.1.1.weight \t torch.Size([672])\n",
            "features.6.0.block.1.1.bias \t torch.Size([672])\n",
            "features.6.0.block.2.fc1.weight \t torch.Size([28, 672, 1, 1])\n",
            "features.6.0.block.2.fc1.bias \t torch.Size([28])\n",
            "features.6.0.block.2.fc2.weight \t torch.Size([672, 28, 1, 1])\n",
            "features.6.0.block.2.fc2.bias \t torch.Size([672])\n",
            "features.6.0.block.3.0.weight \t torch.Size([192, 672, 1, 1])\n",
            "features.6.0.block.3.1.weight \t torch.Size([192])\n",
            "features.6.0.block.3.1.bias \t torch.Size([192])\n",
            "features.6.1.block.0.0.weight \t torch.Size([1152, 192, 1, 1])\n",
            "features.6.1.block.0.1.weight \t torch.Size([1152])\n",
            "features.6.1.block.0.1.bias \t torch.Size([1152])\n",
            "features.6.1.block.1.0.weight \t torch.Size([1152, 1, 5, 5])\n",
            "features.6.1.block.1.1.weight \t torch.Size([1152])\n",
            "features.6.1.block.1.1.bias \t torch.Size([1152])\n",
            "features.6.1.block.2.fc1.weight \t torch.Size([48, 1152, 1, 1])\n",
            "features.6.1.block.2.fc1.bias \t torch.Size([48])\n",
            "features.6.1.block.2.fc2.weight \t torch.Size([1152, 48, 1, 1])\n",
            "features.6.1.block.2.fc2.bias \t torch.Size([1152])\n",
            "features.6.1.block.3.0.weight \t torch.Size([192, 1152, 1, 1])\n",
            "features.6.1.block.3.1.weight \t torch.Size([192])\n",
            "features.6.1.block.3.1.bias \t torch.Size([192])\n",
            "features.6.2.block.0.0.weight \t torch.Size([1152, 192, 1, 1])\n",
            "features.6.2.block.0.1.weight \t torch.Size([1152])\n",
            "features.6.2.block.0.1.bias \t torch.Size([1152])\n",
            "features.6.2.block.1.0.weight \t torch.Size([1152, 1, 5, 5])\n",
            "features.6.2.block.1.1.weight \t torch.Size([1152])\n",
            "features.6.2.block.1.1.bias \t torch.Size([1152])\n",
            "features.6.2.block.2.fc1.weight \t torch.Size([48, 1152, 1, 1])\n",
            "features.6.2.block.2.fc1.bias \t torch.Size([48])\n",
            "features.6.2.block.2.fc2.weight \t torch.Size([1152, 48, 1, 1])\n",
            "features.6.2.block.2.fc2.bias \t torch.Size([1152])\n",
            "features.6.2.block.3.0.weight \t torch.Size([192, 1152, 1, 1])\n",
            "features.6.2.block.3.1.weight \t torch.Size([192])\n",
            "features.6.2.block.3.1.bias \t torch.Size([192])\n",
            "features.6.3.block.0.0.weight \t torch.Size([1152, 192, 1, 1])\n",
            "features.6.3.block.0.1.weight \t torch.Size([1152])\n",
            "features.6.3.block.0.1.bias \t torch.Size([1152])\n",
            "features.6.3.block.1.0.weight \t torch.Size([1152, 1, 5, 5])\n",
            "features.6.3.block.1.1.weight \t torch.Size([1152])\n",
            "features.6.3.block.1.1.bias \t torch.Size([1152])\n",
            "features.6.3.block.2.fc1.weight \t torch.Size([48, 1152, 1, 1])\n",
            "features.6.3.block.2.fc1.bias \t torch.Size([48])\n",
            "features.6.3.block.2.fc2.weight \t torch.Size([1152, 48, 1, 1])\n",
            "features.6.3.block.2.fc2.bias \t torch.Size([1152])\n",
            "features.6.3.block.3.0.weight \t torch.Size([192, 1152, 1, 1])\n",
            "features.6.3.block.3.1.weight \t torch.Size([192])\n",
            "features.6.3.block.3.1.bias \t torch.Size([192])\n",
            "features.7.0.block.0.0.weight \t torch.Size([1152, 192, 1, 1])\n",
            "features.7.0.block.0.1.weight \t torch.Size([1152])\n",
            "features.7.0.block.0.1.bias \t torch.Size([1152])\n",
            "features.7.0.block.1.0.weight \t torch.Size([1152, 1, 3, 3])\n",
            "features.7.0.block.1.1.weight \t torch.Size([1152])\n",
            "features.7.0.block.1.1.bias \t torch.Size([1152])\n",
            "features.7.0.block.2.fc1.weight \t torch.Size([48, 1152, 1, 1])\n",
            "features.7.0.block.2.fc1.bias \t torch.Size([48])\n",
            "features.7.0.block.2.fc2.weight \t torch.Size([1152, 48, 1, 1])\n",
            "features.7.0.block.2.fc2.bias \t torch.Size([1152])\n",
            "features.7.0.block.3.0.weight \t torch.Size([320, 1152, 1, 1])\n",
            "features.7.0.block.3.1.weight \t torch.Size([320])\n",
            "features.7.0.block.3.1.bias \t torch.Size([320])\n",
            "features.8.0.weight \t torch.Size([1280, 320, 1, 1])\n",
            "features.8.1.weight \t torch.Size([1280])\n",
            "features.8.1.bias \t torch.Size([1280])\n",
            "classifier.1.weight \t torch.Size([1000, 1280])\n",
            "classifier.1.bias \t torch.Size([1000])\n",
            "\n",
            " --------------------\n",
            "Number of trainable parameters for the model: 5288548\n",
            "Number of all parameters for the model: 5288548\n"
          ]
        }
      ],
      "source": [
        "params = list(model.named_parameters())\n",
        "\n",
        "# print(params)\n",
        "for idx in range(len(params)):\n",
        "    print(params[idx][0],'\\t', params[idx][1].size())\n",
        "print('\\n',10*'--')\n",
        "num_params = sum(p.numel() for p in model.parameters() if p.requires_grad)\n",
        "print('Number of trainable parameters for the model: %d' % (num_params))\n",
        "\n",
        "num_params = sum(p.numel() for p in model.parameters() )\n",
        "print('Number of all parameters for the model: %d' % (num_params))"
      ]
    },
    {
      "cell_type": "code",
      "execution_count": null,
      "metadata": {
        "id": "pnRNaZ7Tunx7"
      },
      "outputs": [],
      "source": [
        "# Функция для смены полносвяного слоя\n",
        "def change_num_classes(n, model):\n",
        "    n_classes = n\n",
        "    n_fc_in = model.classifier[1].in_features\n",
        "\n",
        "    model.classifier[1] = nn.Linear(n_fc_in, n_classes).to(device)\n",
        "\n",
        "    nn.init.xavier_uniform_(model.classifier[1].weight)\n",
        "    model.classifier[1].bias.data.fill_(0)"
      ]
    },
    {
      "cell_type": "code",
      "execution_count": null,
      "metadata": {
        "id": "58FUxeGyVc-J"
      },
      "outputs": [],
      "source": [
        "# Загрузка функции потерь\n",
        "criterion = nn.CrossEntropyLoss()\n",
        "criterion = criterion.to(device)"
      ]
    },
    {
      "cell_type": "code",
      "execution_count": null,
      "metadata": {
        "id": "vtSRV9mEKXn8"
      },
      "outputs": [],
      "source": [
        "# Функция запуска обучения и проверка на тестовой выборке\n",
        "def run_model(learningRate, num_epochs):\n",
        "    # Define Adam optimizer with the current learning rate\n",
        "    optimizer = optim.SGD(model.parameters(), lr=learningRate)\n",
        "\n",
        "    # Training loop\n",
        "    for epoch in range(num_epochs):\n",
        "        model.train()\n",
        "        running_loss = 0.0\n",
        "        all_labels = []\n",
        "        all_predictions = []\n",
        "        for inputs, labels in dataloader_train:\n",
        "            inputs, labels = inputs.to(device), labels.to(device)\n",
        "\n",
        "            optimizer.zero_grad()\n",
        "\n",
        "            outputs = model(inputs)\n",
        "            loss = criterion(outputs, labels)\n",
        "            loss.backward()\n",
        "            optimizer.step()\n",
        "\n",
        "            running_loss += loss.item() * inputs.size(0)\n",
        "\n",
        "            _, predicted = torch.max(outputs, 1)\n",
        "            all_labels.extend(labels.cpu().numpy())\n",
        "            all_predictions.extend(predicted.cpu().numpy())\n",
        "\n",
        "        # Calculate average training loss per epoch\n",
        "        epoch_loss = running_loss / len(dataset_train)\n",
        "        precision = precision_score(all_labels, all_predictions, average='weighted')\n",
        "        recall = recall_score(all_labels, all_predictions, average='weighted')\n",
        "        accuracy = accuracy_score(all_labels, all_predictions)\n",
        "        print(f\"Training - Learning Rate: {learningRate} - Epoch {epoch+1}/{num_epochs}, Training Loss: {epoch_loss:.4f}, Recall: {recall:.4f}, Precision: {precision:.4f}, Accuracy: {accuracy:.4f}\")\n",
        "\n",
        "    # Evaluation loop\n",
        "    model.eval()\n",
        "    all_labels = []\n",
        "    all_predictions = []\n",
        "    with torch.no_grad():\n",
        "        for inputs, labels in dataloader_valid:\n",
        "            inputs, labels = inputs.to(device), labels.to(device)\n",
        "\n",
        "            outputs = model(inputs)\n",
        "\n",
        "            _, predicted = torch.max(outputs, 1)\n",
        "            all_labels.extend(labels.cpu().numpy())\n",
        "            all_predictions.extend(predicted.cpu().numpy())\n",
        "\n",
        "    precision = precision_score(all_labels, all_predictions, average='weighted')\n",
        "    recall = recall_score(all_labels, all_predictions, average='weighted')\n",
        "    accuracy = accuracy_score(all_labels, all_predictions)\n",
        "    print(f\"\\n\\nValidation - Learning Rate: {learningRate}, Recall: {recall:.4f}, Precision: {precision:.4f}, Accuracy: {accuracy:.4f}\\n\\n\")\n",
        "\n",
        "    # Testing loop\n",
        "    # Set model to evaluation mode\n",
        "    model.eval()\n",
        "\n",
        "    # Lists to store true labels and predicted labels\n",
        "    all_labels = []\n",
        "    all_predictions = []\n",
        "\n",
        "    # Loop through the test dataset\n",
        "    with torch.no_grad():\n",
        "        for inputs, labels in dataloader_test:\n",
        "            inputs, labels = inputs.to(device), labels.to(device)\n",
        "\n",
        "            # Forward pass\n",
        "            outputs = model(inputs)\n",
        "\n",
        "            # Get predicted labels\n",
        "            _, predicted = torch.max(outputs, 1)\n",
        "\n",
        "            # Append true labels and predicted labels\n",
        "            all_labels.extend(labels.cpu().numpy())\n",
        "            all_predictions.extend(predicted.cpu().numpy())\n",
        "\n",
        "    # Calculate precision, recall, and accuracy\n",
        "    precision = precision_score(all_labels, all_predictions, average='weighted')\n",
        "    recall = recall_score(all_labels, all_predictions, average='weighted')\n",
        "    accuracy = accuracy_score(all_labels, all_predictions)\n",
        "\n",
        "    print(f\"\\n\\nTesting - Learning Rate: {learningRate}, Recall: {recall:.4f}, Precision: {precision:.4f}, Accuracy: {accuracy:.4f}\\n\\n\")"
      ]
    },
    {
      "cell_type": "code",
      "execution_count": null,
      "metadata": {
        "id": "lKIzpp3lm-sV"
      },
      "outputs": [],
      "source": [
        "# Define learning rates\n",
        "learning_rates = [0.001, 0.005, 0.01, 0.02, 0.03, 0.05, 0.08]"
      ]
    },
    {
      "cell_type": "code",
      "execution_count": null,
      "metadata": {
        "colab": {
          "base_uri": "https://localhost:8080/",
          "height": 211
        },
        "id": "wlxDuHtunFb5",
        "outputId": "bcab3c9d-2fa2-4e94-d672-a6934b6050d0"
      },
      "outputs": [
        {
          "ename": "NameError",
          "evalue": "name 'learning_rates' is not defined",
          "output_type": "error",
          "traceback": [
            "\u001b[0;31m---------------------------------------------------------------------------\u001b[0m",
            "\u001b[0;31mNameError\u001b[0m                                 Traceback (most recent call last)",
            "\u001b[0;32m<ipython-input-88-b705fd44cc25>\u001b[0m in \u001b[0;36m<cell line: 3>\u001b[0;34m()\u001b[0m\n\u001b[1;32m      1\u001b[0m \u001b[0mnum_epochs\u001b[0m \u001b[0;34m=\u001b[0m \u001b[0;36m30\u001b[0m\u001b[0;34m\u001b[0m\u001b[0;34m\u001b[0m\u001b[0m\n\u001b[1;32m      2\u001b[0m \u001b[0;34m\u001b[0m\u001b[0m\n\u001b[0;32m----> 3\u001b[0;31m \u001b[0;32mfor\u001b[0m \u001b[0mlr\u001b[0m \u001b[0;32min\u001b[0m \u001b[0mlearning_rates\u001b[0m\u001b[0;34m:\u001b[0m\u001b[0;34m\u001b[0m\u001b[0;34m\u001b[0m\u001b[0m\n\u001b[0m\u001b[1;32m      4\u001b[0m     \u001b[0mmodel\u001b[0m \u001b[0;34m=\u001b[0m \u001b[0mmodels\u001b[0m\u001b[0;34m.\u001b[0m\u001b[0mefficientnet_b0\u001b[0m\u001b[0;34m(\u001b[0m\u001b[0mweights\u001b[0m\u001b[0;34m=\u001b[0m\u001b[0;34m'IMAGENET1K_V1'\u001b[0m\u001b[0;34m,\u001b[0m \u001b[0mprogress\u001b[0m\u001b[0;34m=\u001b[0m\u001b[0;32mTrue\u001b[0m\u001b[0;34m)\u001b[0m\u001b[0;34m.\u001b[0m\u001b[0mto\u001b[0m\u001b[0;34m(\u001b[0m\u001b[0mdevice\u001b[0m\u001b[0;34m)\u001b[0m\u001b[0;34m\u001b[0m\u001b[0;34m\u001b[0m\u001b[0m\n\u001b[1;32m      5\u001b[0m     \u001b[0mchange_num_classes\u001b[0m\u001b[0;34m(\u001b[0m\u001b[0;36m3\u001b[0m\u001b[0;34m,\u001b[0m \u001b[0mmodel\u001b[0m\u001b[0;34m)\u001b[0m\u001b[0;34m\u001b[0m\u001b[0;34m\u001b[0m\u001b[0m\n",
            "\u001b[0;31mNameError\u001b[0m: name 'learning_rates' is not defined"
          ]
        }
      ],
      "source": [
        "# Для поиска наилучшего lr\n",
        "num_epochs = 30\n",
        "\n",
        "for lr in learning_rates:\n",
        "    model = models.efficientnet_b0(weights='IMAGENET1K_V1', progress=True).to(device)\n",
        "    change_num_classes(3, model)\n",
        "    run_model(lr, num_epochs)"
      ]
    },
    {
      "cell_type": "code",
      "execution_count": null,
      "metadata": {
        "colab": {
          "base_uri": "https://localhost:8080/"
        },
        "id": "Cs7jBeXa_LN1",
        "outputId": "19cd44b1-5505-4e12-ff45-2563b3ffde7f"
      },
      "outputs": [
        {
          "output_type": "stream",
          "name": "stdout",
          "text": [
            "Training - Learning Rate: 0.01 - Epoch 1/35, Training Loss: 0.5517, Recall: 0.7588, Precision: 0.7934, Accuracy: 0.7588\n",
            "Training - Learning Rate: 0.01 - Epoch 2/35, Training Loss: 0.3294, Recall: 0.9189, Precision: 0.9110, Accuracy: 0.9189\n",
            "Training - Learning Rate: 0.01 - Epoch 3/35, Training Loss: 0.2304, Recall: 0.9293, Precision: 0.9346, Accuracy: 0.9293\n",
            "Training - Learning Rate: 0.01 - Epoch 4/35, Training Loss: 0.1783, Recall: 0.9418, Precision: 0.9433, Accuracy: 0.9418\n",
            "Training - Learning Rate: 0.01 - Epoch 5/35, Training Loss: 0.1521, Recall: 0.9543, Precision: 0.9565, Accuracy: 0.9543\n",
            "Training - Learning Rate: 0.01 - Epoch 6/35, Training Loss: 0.1162, Recall: 0.9709, Precision: 0.9718, Accuracy: 0.9709\n",
            "Training - Learning Rate: 0.01 - Epoch 7/35, Training Loss: 0.1030, Recall: 0.9730, Precision: 0.9731, Accuracy: 0.9730\n",
            "Training - Learning Rate: 0.01 - Epoch 8/35, Training Loss: 0.1052, Recall: 0.9813, Precision: 0.9817, Accuracy: 0.9813\n",
            "Training - Learning Rate: 0.01 - Epoch 9/35, Training Loss: 0.0799, Recall: 0.9854, Precision: 0.9857, Accuracy: 0.9854\n",
            "Training - Learning Rate: 0.01 - Epoch 10/35, Training Loss: 0.0650, Recall: 0.9896, Precision: 0.9897, Accuracy: 0.9896\n",
            "Training - Learning Rate: 0.01 - Epoch 11/35, Training Loss: 0.0616, Recall: 0.9938, Precision: 0.9938, Accuracy: 0.9938\n",
            "Training - Learning Rate: 0.01 - Epoch 12/35, Training Loss: 0.0595, Recall: 0.9896, Precision: 0.9897, Accuracy: 0.9896\n",
            "Training - Learning Rate: 0.01 - Epoch 13/35, Training Loss: 0.0427, Recall: 0.9979, Precision: 0.9979, Accuracy: 0.9979\n",
            "Training - Learning Rate: 0.01 - Epoch 14/35, Training Loss: 0.0522, Recall: 0.9834, Precision: 0.9833, Accuracy: 0.9834\n",
            "Training - Learning Rate: 0.01 - Epoch 15/35, Training Loss: 0.0338, Recall: 0.9979, Precision: 0.9979, Accuracy: 0.9979\n",
            "Training - Learning Rate: 0.01 - Epoch 16/35, Training Loss: 0.0344, Recall: 1.0000, Precision: 1.0000, Accuracy: 1.0000\n",
            "Training - Learning Rate: 0.01 - Epoch 17/35, Training Loss: 0.0377, Recall: 0.9938, Precision: 0.9938, Accuracy: 0.9938\n",
            "Training - Learning Rate: 0.01 - Epoch 18/35, Training Loss: 0.0223, Recall: 1.0000, Precision: 1.0000, Accuracy: 1.0000\n",
            "Training - Learning Rate: 0.01 - Epoch 19/35, Training Loss: 0.0323, Recall: 0.9938, Precision: 0.9937, Accuracy: 0.9938\n",
            "Training - Learning Rate: 0.01 - Epoch 20/35, Training Loss: 0.0258, Recall: 0.9979, Precision: 0.9979, Accuracy: 0.9979\n",
            "Training - Learning Rate: 0.01 - Epoch 21/35, Training Loss: 0.0241, Recall: 0.9938, Precision: 0.9938, Accuracy: 0.9938\n",
            "Training - Learning Rate: 0.01 - Epoch 22/35, Training Loss: 0.0208, Recall: 0.9979, Precision: 0.9980, Accuracy: 0.9979\n",
            "Training - Learning Rate: 0.01 - Epoch 23/35, Training Loss: 0.0213, Recall: 0.9958, Precision: 0.9958, Accuracy: 0.9958\n",
            "Training - Learning Rate: 0.01 - Epoch 24/35, Training Loss: 0.0214, Recall: 0.9958, Precision: 0.9959, Accuracy: 0.9958\n",
            "Training - Learning Rate: 0.01 - Epoch 25/35, Training Loss: 0.0199, Recall: 0.9958, Precision: 0.9959, Accuracy: 0.9958\n",
            "Training - Learning Rate: 0.01 - Epoch 26/35, Training Loss: 0.0140, Recall: 1.0000, Precision: 1.0000, Accuracy: 1.0000\n",
            "Training - Learning Rate: 0.01 - Epoch 27/35, Training Loss: 0.0252, Recall: 0.9958, Precision: 0.9959, Accuracy: 0.9958\n",
            "Training - Learning Rate: 0.01 - Epoch 28/35, Training Loss: 0.0187, Recall: 0.9958, Precision: 0.9958, Accuracy: 0.9958\n",
            "Training - Learning Rate: 0.01 - Epoch 29/35, Training Loss: 0.0160, Recall: 0.9958, Precision: 0.9959, Accuracy: 0.9958\n",
            "Training - Learning Rate: 0.01 - Epoch 30/35, Training Loss: 0.0152, Recall: 0.9979, Precision: 0.9979, Accuracy: 0.9979\n",
            "Training - Learning Rate: 0.01 - Epoch 31/35, Training Loss: 0.0186, Recall: 0.9958, Precision: 0.9959, Accuracy: 0.9958\n",
            "Training - Learning Rate: 0.01 - Epoch 32/35, Training Loss: 0.0150, Recall: 0.9958, Precision: 0.9959, Accuracy: 0.9958\n",
            "Training - Learning Rate: 0.01 - Epoch 33/35, Training Loss: 0.0137, Recall: 0.9979, Precision: 0.9979, Accuracy: 0.9979\n",
            "Training - Learning Rate: 0.01 - Epoch 34/35, Training Loss: 0.0162, Recall: 0.9979, Precision: 0.9979, Accuracy: 0.9979\n",
            "Training - Learning Rate: 0.01 - Epoch 35/35, Training Loss: 0.0110, Recall: 1.0000, Precision: 1.0000, Accuracy: 1.0000\n",
            "\n",
            "\n",
            "Validation - Learning Rate: 0.01, Recall: 0.9857, Precision: 0.9859, Accuracy: 0.9857\n",
            "\n",
            "\n",
            "\n",
            "\n",
            "Testing - Learning Rate: 0.01, Recall: 1.0000, Precision: 1.0000, Accuracy: 1.0000\n",
            "\n",
            "\n"
          ]
        }
      ],
      "source": [
        "num_epochs = 35\n",
        "change_num_classes(2, model)\n",
        "run_model(0.01, num_epochs)"
      ]
    },
    {
      "cell_type": "code",
      "execution_count": 26,
      "metadata": {
        "colab": {
          "base_uri": "https://localhost:8080/",
          "height": 84,
          "referenced_widgets": [
            "e7fb8c184891420dac31167fa5ed99c0",
            "5cb6d16085a74e8196de6ccc9fe63c1e",
            "16267d40fc704bc2b0db2075829ca6f9",
            "3fa1ce6f3b834034a67820a83d54fa71",
            "7e543b9ea22646afa6bf456124ae7c8d",
            "d94816a01b3b48daae7b7a4862e9d573",
            "1b10ed363b3740a3aa93d8f96e53f916",
            "6c78d642c7e3412995a7838d43f09e0e",
            "3b5a534c96a14c4a8c5abfb5e67b42b3",
            "6ad5865747a5414098572c9ecc24a0a9",
            "2f67012929e3433daddd13f25e9050ff"
          ]
        },
        "id": "br3BEtmoAVQ8",
        "outputId": "1f3a2223-33c5-47f7-ff85-08095fddc593"
      },
      "outputs": [
        {
          "output_type": "display_data",
          "data": {
            "text/plain": [
              "  0%|          | 0/5 [00:00<?, ?it/s]"
            ],
            "application/vnd.jupyter.widget-view+json": {
              "version_major": 2,
              "version_minor": 0,
              "model_id": "e7fb8c184891420dac31167fa5ed99c0"
            }
          },
          "metadata": {}
        },
        {
          "output_type": "stream",
          "name": "stdout",
          "text": [
            "Accuracy of healthy : 100 %\n",
            "Accuracy of unhealthy : 100 %\n"
          ]
        }
      ],
      "source": [
        "n_classes = 2\n",
        "n_samples = len(dataloader_test)\n",
        "names_classes = [\"healthy\", \"unhealthy\"]\n",
        "names_classes_3 = [\"healthy\", \"stage 2-3\", \"plus\"]\n",
        "\n",
        "class_correct = torch.zeros(n_classes)\n",
        "class_total   = torch.zeros(n_classes)\n",
        "\n",
        "labels   = []\n",
        "predicts = []\n",
        "\n",
        "model.eval()\n",
        "\n",
        "with torch.no_grad():\n",
        "\n",
        "    for x,y in tqdm(dataloader_test):\n",
        "        x = x.to(device)\n",
        "        y = y.to('cpu')\n",
        "\n",
        "        y_pred = model.forward(x).to('cpu')\n",
        "\n",
        "        cls_pred = torch.argmax(y_pred, dim=1)\n",
        "\n",
        "        c = (cls_pred == y).squeeze() # one-hot vector\n",
        "\n",
        "        for i in range(x.shape[0]):\n",
        "            label = y[i]\n",
        "            class_correct[label] += c[i].item()\n",
        "            class_total[label]   += 1\n",
        "\n",
        "        labels.append(y)\n",
        "        predicts.append(cls_pred)\n",
        "\n",
        "labels   = torch.cat(labels, dim = 0) # make it 1d array\n",
        "predicts = torch.cat(predicts, dim = 0) # make it 1d array\n",
        "\n",
        "for i in range(n_classes):\n",
        "    print('Accuracy of %5s : %2d %%' % (\n",
        "        names_classes[i], 100 * class_correct[i] / class_total[i]))"
      ]
    },
    {
      "cell_type": "code",
      "execution_count": 27,
      "metadata": {
        "id": "Hve72WnYhCNf"
      },
      "outputs": [],
      "source": [
        "def plot_confusion_matrix(labels, pred_labels, names_classes):\n",
        "\n",
        "    fig, ax = plt.subplots(figsize=(10, 10))\n",
        "\n",
        "    cm = confusion_matrix(np.asarray(labels, dtype=int),\n",
        "                          np.asarray(pred_labels, dtype=int) )\n",
        "\n",
        "    cm = ConfusionMatrixDisplay(cm, display_labels=names_classes)\n",
        "\n",
        "    cm.plot(values_format='d', cmap='coolwarm', ax=ax)\n",
        "    fig.savefig('./cm.jpeg')"
      ]
    },
    {
      "cell_type": "code",
      "execution_count": 28,
      "metadata": {
        "colab": {
          "base_uri": "https://localhost:8080/",
          "height": 815
        },
        "id": "zwiPknN6iZUw",
        "outputId": "ec2da5ce-e0cf-47bf-fd8f-a858ea20c5cc"
      },
      "outputs": [
        {
          "output_type": "display_data",
          "data": {
            "text/plain": [
              "<Figure size 1000x1000 with 2 Axes>"
            ],
            "image/png": "[encoded data removed]"
          },
          "metadata": {}
        }
      ],
      "source": [
        "plot_confusion_matrix(labels.cpu(), predicts.cpu(), names_classes)"
      ]
    }
  ],
  "metadata": {
    "accelerator": "GPU",
    "colab": {
      "gpuType": "T4",
      "provenance": []
    },
    "kernelspec": {
      "display_name": "Python 3",
      "name": "python3"
    },
    "language_info": {
      "name": "python"
    },
    "widgets": {
      "application/vnd.jupyter.widget-state+json": {
        "e7fb8c184891420dac31167fa5ed99c0": {
          "model_module": "@jupyter-widgets/controls",
          "model_name": "HBoxModel",
          "model_module_version": "1.5.0",
          "state": {
            "_dom_classes": [],
            "_model_module": "@jupyter-widgets/controls",
            "_model_module_version": "1.5.0",
            "_model_name": "HBoxModel",
            "_view_count": null,
            "_view_module": "@jupyter-widgets/controls",
            "_view_module_version": "1.5.0",
            "_view_name": "HBoxView",
            "box_style": "",
            "children": [
              "IPY_MODEL_5cb6d16085a74e8196de6ccc9fe63c1e",
              "IPY_MODEL_16267d40fc704bc2b0db2075829ca6f9",
              "IPY_MODEL_3fa1ce6f3b834034a67820a83d54fa71"
            ],
            "layout": "IPY_MODEL_7e543b9ea22646afa6bf456124ae7c8d"
          }
        },
        "5cb6d16085a74e8196de6ccc9fe63c1e": {
          "model_module": "@jupyter-widgets/controls",
          "model_name": "HTMLModel",
          "model_module_version": "1.5.0",
          "state": {
            "_dom_classes": [],
            "_model_module": "@jupyter-widgets/controls",
            "_model_module_version": "1.5.0",
            "_model_name": "HTMLModel",
            "_view_count": null,
            "_view_module": "@jupyter-widgets/controls",
            "_view_module_version": "1.5.0",
            "_view_name": "HTMLView",
            "description": "",
            "description_tooltip": null,
            "layout": "IPY_MODEL_d94816a01b3b48daae7b7a4862e9d573",
            "placeholder": "​",
            "style": "IPY_MODEL_1b10ed363b3740a3aa93d8f96e53f916",
            "value": "100%"
          }
        },
        "16267d40fc704bc2b0db2075829ca6f9": {
          "model_module": "@jupyter-widgets/controls",
          "model_name": "FloatProgressModel",
          "model_module_version": "1.5.0",
          "state": {
            "_dom_classes": [],
            "_model_module": "@jupyter-widgets/controls",
            "_model_module_version": "1.5.0",
            "_model_name": "FloatProgressModel",
            "_view_count": null,
            "_view_module": "@jupyter-widgets/controls",
            "_view_module_version": "1.5.0",
            "_view_name": "ProgressView",
            "bar_style": "success",
            "description": "",
            "description_tooltip": null,
            "layout": "IPY_MODEL_6c78d642c7e3412995a7838d43f09e0e",
            "max": 5,
            "min": 0,
            "orientation": "horizontal",
            "style": "IPY_MODEL_3b5a534c96a14c4a8c5abfb5e67b42b3",
            "value": 5
          }
        },
        "3fa1ce6f3b834034a67820a83d54fa71": {
          "model_module": "@jupyter-widgets/controls",
          "model_name": "HTMLModel",
          "model_module_version": "1.5.0",
          "state": {
            "_dom_classes": [],
            "_model_module": "@jupyter-widgets/controls",
            "_model_module_version": "1.5.0",
            "_model_name": "HTMLModel",
            "_view_count": null,
            "_view_module": "@jupyter-widgets/controls",
            "_view_module_version": "1.5.0",
            "_view_name": "HTMLView",
            "description": "",
            "description_tooltip": null,
            "layout": "IPY_MODEL_6ad5865747a5414098572c9ecc24a0a9",
            "placeholder": "​",
            "style": "IPY_MODEL_2f67012929e3433daddd13f25e9050ff",
            "value": " 5/5 [00:04&lt;00:00,  1.17it/s]"
          }
        },
        "7e543b9ea22646afa6bf456124ae7c8d": {
          "model_module": "@jupyter-widgets/base",
          "model_name": "LayoutModel",
          "model_module_version": "1.2.0",
          "state": {
            "_model_module": "@jupyter-widgets/base",
            "_model_module_version": "1.2.0",
            "_model_name": "LayoutModel",
            "_view_count": null,
            "_view_module": "@jupyter-widgets/base",
            "_view_module_version": "1.2.0",
            "_view_name": "LayoutView",
            "align_content": null,
            "align_items": null,
            "align_self": null,
            "border": null,
            "bottom": null,
            "display": null,
            "flex": null,
            "flex_flow": null,
            "grid_area": null,
            "grid_auto_columns": null,
            "grid_auto_flow": null,
            "grid_auto_rows": null,
            "grid_column": null,
            "grid_gap": null,
            "grid_row": null,
            "grid_template_areas": null,
            "grid_template_columns": null,
            "grid_template_rows": null,
            "height": null,
            "justify_content": null,
            "justify_items": null,
            "left": null,
            "margin": null,
            "max_height": null,
            "max_width": null,
            "min_height": null,
            "min_width": null,
            "object_fit": null,
            "object_position": null,
            "order": null,
            "overflow": null,
            "overflow_x": null,
            "overflow_y": null,
            "padding": null,
            "right": null,
            "top": null,
            "visibility": null,
            "width": null
          }
        },
        "d94816a01b3b48daae7b7a4862e9d573": {
          "model_module": "@jupyter-widgets/base",
          "model_name": "LayoutModel",
          "model_module_version": "1.2.0",
          "state": {
            "_model_module": "@jupyter-widgets/base",
            "_model_module_version": "1.2.0",
            "_model_name": "LayoutModel",
            "_view_count": null,
            "_view_module": "@jupyter-widgets/base",
            "_view_module_version": "1.2.0",
            "_view_name": "LayoutView",
            "align_content": null,
            "align_items": null,
            "align_self": null,
            "border": null,
            "bottom": null,
            "display": null,
            "flex": null,
            "flex_flow": null,
            "grid_area": null,
            "grid_auto_columns": null,
            "grid_auto_flow": null,
            "grid_auto_rows": null,
            "grid_column": null,
            "grid_gap": null,
            "grid_row": null,
            "grid_template_areas": null,
            "grid_template_columns": null,
            "grid_template_rows": null,
            "height": null,
            "justify_content": null,
            "justify_items": null,
            "left": null,
            "margin": null,
            "max_height": null,
            "max_width": null,
            "min_height": null,
            "min_width": null,
            "object_fit": null,
            "object_position": null,
            "order": null,
            "overflow": null,
            "overflow_x": null,
            "overflow_y": null,
            "padding": null,
            "right": null,
            "top": null,
            "visibility": null,
            "width": null
          }
        },
        "1b10ed363b3740a3aa93d8f96e53f916": {
          "model_module": "@jupyter-widgets/controls",
          "model_name": "DescriptionStyleModel",
          "model_module_version": "1.5.0",
          "state": {
            "_model_module": "@jupyter-widgets/controls",
            "_model_module_version": "1.5.0",
            "_model_name": "DescriptionStyleModel",
            "_view_count": null,
            "_view_module": "@jupyter-widgets/base",
            "_view_module_version": "1.2.0",
            "_view_name": "StyleView",
            "description_width": ""
          }
        },
        "6c78d642c7e3412995a7838d43f09e0e": {
          "model_module": "@jupyter-widgets/base",
          "model_name": "LayoutModel",
          "model_module_version": "1.2.0",
          "state": {
            "_model_module": "@jupyter-widgets/base",
            "_model_module_version": "1.2.0",
            "_model_name": "LayoutModel",
            "_view_count": null,
            "_view_module": "@jupyter-widgets/base",
            "_view_module_version": "1.2.0",
            "_view_name": "LayoutView",
            "align_content": null,
            "align_items": null,
            "align_self": null,
            "border": null,
            "bottom": null,
            "display": null,
            "flex": null,
            "flex_flow": null,
            "grid_area": null,
            "grid_auto_columns": null,
            "grid_auto_flow": null,
            "grid_auto_rows": null,
            "grid_column": null,
            "grid_gap": null,
            "grid_row": null,
            "grid_template_areas": null,
            "grid_template_columns": null,
            "grid_template_rows": null,
            "height": null,
            "justify_content": null,
            "justify_items": null,
            "left": null,
            "margin": null,
            "max_height": null,
            "max_width": null,
            "min_height": null,
            "min_width": null,
            "object_fit": null,
            "object_position": null,
            "order": null,
            "overflow": null,
            "overflow_x": null,
            "overflow_y": null,
            "padding": null,
            "right": null,
            "top": null,
            "visibility": null,
            "width": null
          }
        },
        "3b5a534c96a14c4a8c5abfb5e67b42b3": {
          "model_module": "@jupyter-widgets/controls",
          "model_name": "ProgressStyleModel",
          "model_module_version": "1.5.0",
          "state": {
            "_model_module": "@jupyter-widgets/controls",
            "_model_module_version": "1.5.0",
            "_model_name": "ProgressStyleModel",
            "_view_count": null,
            "_view_module": "@jupyter-widgets/base",
            "_view_module_version": "1.2.0",
            "_view_name": "StyleView",
            "bar_color": null,
            "description_width": ""
          }
        },
        "6ad5865747a5414098572c9ecc24a0a9": {
          "model_module": "@jupyter-widgets/base",
          "model_name": "LayoutModel",
          "model_module_version": "1.2.0",
          "state": {
            "_model_module": "@jupyter-widgets/base",
            "_model_module_version": "1.2.0",
            "_model_name": "LayoutModel",
            "_view_count": null,
            "_view_module": "@jupyter-widgets/base",
            "_view_module_version": "1.2.0",
            "_view_name": "LayoutView",
            "align_content": null,
            "align_items": null,
            "align_self": null,
            "border": null,
            "bottom": null,
            "display": null,
            "flex": null,
            "flex_flow": null,
            "grid_area": null,
            "grid_auto_columns": null,
            "grid_auto_flow": null,
            "grid_auto_rows": null,
            "grid_column": null,
            "grid_gap": null,
            "grid_row": null,
            "grid_template_areas": null,
            "grid_template_columns": null,
            "grid_template_rows": null,
            "height": null,
            "justify_content": null,
            "justify_items": null,
            "left": null,
            "margin": null,
            "max_height": null,
            "max_width": null,
            "min_height": null,
            "min_width": null,
            "object_fit": null,
            "object_position": null,
            "order": null,
            "overflow": null,
            "overflow_x": null,
            "overflow_y": null,
            "padding": null,
            "right": null,
            "top": null,
            "visibility": null,
            "width": null
          }
        },
        "2f67012929e3433daddd13f25e9050ff": {
          "model_module": "@jupyter-widgets/controls",
          "model_name": "DescriptionStyleModel",
          "model_module_version": "1.5.0",
          "state": {
            "_model_module": "@jupyter-widgets/controls",
            "_model_module_version": "1.5.0",
            "_model_name": "DescriptionStyleModel",
            "_view_count": null,
            "_view_module": "@jupyter-widgets/base",
            "_view_module_version": "1.2.0",
            "_view_name": "StyleView",
            "description_width": ""
          }
        }
      }
    }
  },
  "nbformat": 4,
  "nbformat_minor": 0
}